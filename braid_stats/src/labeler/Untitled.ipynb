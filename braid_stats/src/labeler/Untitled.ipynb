{
 "cells": [
  {
   "cell_type": "code",
   "execution_count": 8,
   "metadata": {},
   "outputs": [],
   "source": [
    "p_k, p_w, p_h, u_t = var(\"p_k p_w p_h u_t\")\n",
    "\n",
    "term_ut = (p_k * ((1-p_h) * (1-p_w) + p_h * p_w) + (p_w * (1-p_k) * p_h) * (p_w + (1-p_w)) + (1-p_w) * (1-p_k) * (1-p_h) * (p_w + (1-p_w)))^u_t"
   ]
  },
  {
   "cell_type": "code",
   "execution_count": 14,
   "metadata": {},
   "outputs": [],
   "source": [
    "s_ut = simplify(term_ut)"
   ]
  },
  {
   "cell_type": "code",
   "execution_count": 12,
   "metadata": {},
   "outputs": [],
   "source": [
    "uf = var(\"u_f\")\n",
    "term_uf = (p_k * ((1-p_h) * p_w + p_h * (1-p_w)) + ((1-p_w) * (1-p_k) * p_h) * (p_w + (1-p_w)) + p_w * (1-p_k) * (1-p_h) * (p_w + (1-p_w)))^u_f"
   ]
  },
  {
   "cell_type": "code",
   "execution_count": 15,
   "metadata": {},
   "outputs": [],
   "source": [
    "s_uf = simplify(term_uf)"
   ]
  },
  {
   "cell_type": "code",
   "execution_count": 17,
   "metadata": {},
   "outputs": [
    {
     "data": {
      "text/plain": [
       "(-(p_h - 1)*(p_k - 1)*(p_w - 1) - p_h*(p_k - 1)*p_w + ((p_h - 1)*(p_w - 1) + p_h*p_w)*p_k)^u_t*(p_h*(p_k - 1)*(p_w - 1) + (p_h - 1)*(p_k - 1)*p_w - (p_h*(p_w - 1) + (p_h - 1)*p_w)*p_k)^u_f"
      ]
     },
     "execution_count": 17,
     "metadata": {},
     "output_type": "execute_result"
    }
   ],
   "source": [
    "simplify(s_ut * s_uf)"
   ]
  },
  {
   "cell_type": "code",
   "execution_count": 21,
   "metadata": {},
   "outputs": [
    {
     "data": {
      "text/plain": [
       "((2*p_h - 1)*p_w - p_h + 1)^u_t*(-(2*p_h - 1)*p_w + p_h)^u_f"
      ]
     },
     "execution_count": 21,
     "metadata": {},
     "output_type": "execute_result"
    }
   ],
   "source": [
    "from sage.symbolic.integration.integral import definite_integral\n",
    "definite_integral(s_ut * s_uf, p_k, 0, 1)"
   ]
  },
  {
   "cell_type": "code",
   "execution_count": 25,
   "metadata": {},
   "outputs": [
    {
     "data": {
      "text/plain": [
       "((2*p_h - 1)*p_w - p_h + 1)^u_t*(-(2*p_h - 1)*p_w + p_h)^u_f"
      ]
     },
     "execution_count": 25,
     "metadata": {},
     "output_type": "execute_result"
    }
   ],
   "source": [
    "definite_integral(s_ut * s_uf, p_k, 0, 1)"
   ]
  },
  {
   "cell_type": "code",
   "execution_count": null,
   "metadata": {},
   "outputs": [],
   "source": []
  }
 ],
 "metadata": {
  "kernelspec": {
   "display_name": "SageMath 8.3",
   "language": "",
   "name": "sagemath"
  },
  "language_info": {
   "codemirror_mode": {
    "name": "ipython",
    "version": 2
   },
   "file_extension": ".py",
   "mimetype": "text/x-python",
   "name": "python",
   "nbconvert_exporter": "python",
   "pygments_lexer": "ipython2",
   "version": "2.7.16"
  }
 },
 "nbformat": 4,
 "nbformat_minor": 2
}
